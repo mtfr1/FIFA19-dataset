{
 "cells": [
  {
   "cell_type": "markdown",
   "metadata": {},
   "source": [
    "## Regressão"
   ]
  },
  {
   "cell_type": "code",
   "execution_count": 164,
   "metadata": {},
   "outputs": [],
   "source": [
    "import matplotlib\n",
    "from matplotlib import pyplot as plt\n",
    "import pandas as pd\n",
    "import numpy as np\n",
    "\n",
    "import seaborn as sns\n",
    "\n",
    "from sklearn import linear_model\n",
    "from sklearn.model_selection import train_test_split\n",
    "from sklearn.metrics import mean_squared_error, r2_score\n",
    "from sklearn.feature_selection import RFE"
   ]
  },
  {
   "cell_type": "code",
   "execution_count": 165,
   "metadata": {},
   "outputs": [],
   "source": [
    "df = pd.read_csv('data.csv')"
   ]
  },
  {
   "cell_type": "code",
   "execution_count": 166,
   "metadata": {},
   "outputs": [],
   "source": [
    "drop_cols = df.columns[22:48]\n",
    "df = df.drop(drop_cols, axis = 1)\n",
    "df = df.drop(['Unnamed: 0','ID','Jersey Number','Joined','Special',\n",
    "               'Weight','Height','Contract Valid Until','Wage','Value','Name','Club',\n",
    "               'Preferred Foot', 'Work Rate', 'Nationality'], axis = 1)\n",
    "df = df.dropna()"
   ]
  },
  {
   "cell_type": "markdown",
   "metadata": {},
   "source": [
    "Primeiramente, para preprocessar os dados, removemos as colunas relativas à habilidade do jogador em posições diferentes das suas principais, já que esse tipo de informação não é relevante para o cálculo do Overall. Removemos também dados nominais, como: \"ID, nome, número da camisa, clube, etc\". Linhas com valores nulos também foram removidas para ser possível realizar a regressão.\n",
    "\n",
    "No nosso modelo de regressão, vamos tentar prever o Overall de um jogador usando diversos atributos. Para isso, algumas modificações foram feitas no dataset. Primeiro, por existirem mais de 20 posições no conjunto de dados, simplificamos elas em 6 grandes grupos: GK representando os goleiros, DF representando os defensores, DM os jogadores de meio defensivos, MF os meias, AM os meias ofensivos e ST representando os atacantes. Além disso, para evitar a criaçao de muitas colunas esparsas usando one-hot encoding, foi removida a coluna de nacionalidade, uma outra alternativa seria criar uma nova coluna binária em que 1 seria se a nação é grande o suficiente (escolher um número mínimo para considerar como grande) e 0, caso contrário.\n",
    "\n",
    "Depois, por apresentar atributos em diversas escalas, normalizamos as colunas do conjunto de treino. E, antes de prever o conjunto de teste, utilizamos a média e o desvio padrão do conjunto de treino para normalizar o teste."
   ]
  },
  {
   "cell_type": "code",
   "execution_count": 167,
   "metadata": {},
   "outputs": [],
   "source": [
    "def simple_position(df):\n",
    "    if (df['Position'] == 'GK'):\n",
    "        return 'GK'\n",
    "    elif ((df['Position'] == 'RB') | (df['Position'] == 'LB') | (df['Position'] == 'CB') | (df['Position'] == 'LCB') | (df['Position'] == 'RCB') | (df['Position'] == 'RWB') | (df['Position'] == 'LWB') ):\n",
    "        return 'DF'\n",
    "    elif ((df['Position'] == 'LDM') | (df['Position'] == 'CDM') | (df['Position'] == 'RDM')):\n",
    "        return 'DM'\n",
    "    elif ((df['Position'] == 'LM') | (df['Position'] == 'LCM') | (df['Position'] == 'CM') | (df['Position'] == 'RCM') | (df['Position'] == 'RM')):\n",
    "        return 'MF'\n",
    "    elif ((df['Position'] == 'LAM') | (df['Position'] == 'CAM') | (df['Position'] == 'RAM') | (df['Position'] == 'LW') | (df['Position'] == 'RW')):\n",
    "        return 'AM'\n",
    "    elif ((df['Position'] == 'RS') | (df['Position'] == 'ST') | (df['Position'] == 'LS') | (df['Position'] == 'CF') | (df['Position'] == 'LF') | (df['Position'] == 'RF')):\n",
    "        return 'ST'\n",
    "    else:\n",
    "        return df.Position"
   ]
  },
  {
   "cell_type": "code",
   "execution_count": 168,
   "metadata": {},
   "outputs": [
    {
     "data": {
      "text/html": [
       "<div>\n",
       "<style scoped>\n",
       "    .dataframe tbody tr th:only-of-type {\n",
       "        vertical-align: middle;\n",
       "    }\n",
       "\n",
       "    .dataframe tbody tr th {\n",
       "        vertical-align: top;\n",
       "    }\n",
       "\n",
       "    .dataframe thead th {\n",
       "        text-align: right;\n",
       "    }\n",
       "</style>\n",
       "<table border=\"1\" class=\"dataframe\">\n",
       "  <thead>\n",
       "    <tr style=\"text-align: right;\">\n",
       "      <th></th>\n",
       "      <th>Age</th>\n",
       "      <th>Overall</th>\n",
       "      <th>Potential</th>\n",
       "      <th>International Reputation</th>\n",
       "      <th>Weak Foot</th>\n",
       "      <th>Skill Moves</th>\n",
       "      <th>Crossing</th>\n",
       "      <th>Finishing</th>\n",
       "      <th>HeadingAccuracy</th>\n",
       "      <th>ShortPassing</th>\n",
       "      <th>...</th>\n",
       "      <th>Marking</th>\n",
       "      <th>StandingTackle</th>\n",
       "      <th>SlidingTackle</th>\n",
       "      <th>GKDiving</th>\n",
       "      <th>GKHandling</th>\n",
       "      <th>GKKicking</th>\n",
       "      <th>GKPositioning</th>\n",
       "      <th>GKReflexes</th>\n",
       "      <th>Release Clause</th>\n",
       "      <th>Simple Position</th>\n",
       "    </tr>\n",
       "  </thead>\n",
       "  <tbody>\n",
       "    <tr>\n",
       "      <th>0</th>\n",
       "      <td>31</td>\n",
       "      <td>94</td>\n",
       "      <td>94</td>\n",
       "      <td>5.0</td>\n",
       "      <td>4.0</td>\n",
       "      <td>4.0</td>\n",
       "      <td>84.0</td>\n",
       "      <td>95.0</td>\n",
       "      <td>70.0</td>\n",
       "      <td>90.0</td>\n",
       "      <td>...</td>\n",
       "      <td>33.0</td>\n",
       "      <td>28.0</td>\n",
       "      <td>26.0</td>\n",
       "      <td>6.0</td>\n",
       "      <td>11.0</td>\n",
       "      <td>15.0</td>\n",
       "      <td>14.0</td>\n",
       "      <td>8.0</td>\n",
       "      <td>226500000.0</td>\n",
       "      <td>ST</td>\n",
       "    </tr>\n",
       "    <tr>\n",
       "      <th>1</th>\n",
       "      <td>33</td>\n",
       "      <td>94</td>\n",
       "      <td>94</td>\n",
       "      <td>5.0</td>\n",
       "      <td>4.0</td>\n",
       "      <td>5.0</td>\n",
       "      <td>84.0</td>\n",
       "      <td>94.0</td>\n",
       "      <td>89.0</td>\n",
       "      <td>81.0</td>\n",
       "      <td>...</td>\n",
       "      <td>28.0</td>\n",
       "      <td>31.0</td>\n",
       "      <td>23.0</td>\n",
       "      <td>7.0</td>\n",
       "      <td>11.0</td>\n",
       "      <td>15.0</td>\n",
       "      <td>14.0</td>\n",
       "      <td>11.0</td>\n",
       "      <td>127100000.0</td>\n",
       "      <td>ST</td>\n",
       "    </tr>\n",
       "    <tr>\n",
       "      <th>2</th>\n",
       "      <td>26</td>\n",
       "      <td>92</td>\n",
       "      <td>93</td>\n",
       "      <td>5.0</td>\n",
       "      <td>5.0</td>\n",
       "      <td>5.0</td>\n",
       "      <td>79.0</td>\n",
       "      <td>87.0</td>\n",
       "      <td>62.0</td>\n",
       "      <td>84.0</td>\n",
       "      <td>...</td>\n",
       "      <td>27.0</td>\n",
       "      <td>24.0</td>\n",
       "      <td>33.0</td>\n",
       "      <td>9.0</td>\n",
       "      <td>9.0</td>\n",
       "      <td>15.0</td>\n",
       "      <td>15.0</td>\n",
       "      <td>11.0</td>\n",
       "      <td>228100000.0</td>\n",
       "      <td>AM</td>\n",
       "    </tr>\n",
       "    <tr>\n",
       "      <th>3</th>\n",
       "      <td>27</td>\n",
       "      <td>91</td>\n",
       "      <td>93</td>\n",
       "      <td>4.0</td>\n",
       "      <td>3.0</td>\n",
       "      <td>1.0</td>\n",
       "      <td>17.0</td>\n",
       "      <td>13.0</td>\n",
       "      <td>21.0</td>\n",
       "      <td>50.0</td>\n",
       "      <td>...</td>\n",
       "      <td>15.0</td>\n",
       "      <td>21.0</td>\n",
       "      <td>13.0</td>\n",
       "      <td>90.0</td>\n",
       "      <td>85.0</td>\n",
       "      <td>87.0</td>\n",
       "      <td>88.0</td>\n",
       "      <td>94.0</td>\n",
       "      <td>138600000.0</td>\n",
       "      <td>GK</td>\n",
       "    </tr>\n",
       "    <tr>\n",
       "      <th>4</th>\n",
       "      <td>27</td>\n",
       "      <td>91</td>\n",
       "      <td>92</td>\n",
       "      <td>4.0</td>\n",
       "      <td>5.0</td>\n",
       "      <td>4.0</td>\n",
       "      <td>93.0</td>\n",
       "      <td>82.0</td>\n",
       "      <td>55.0</td>\n",
       "      <td>92.0</td>\n",
       "      <td>...</td>\n",
       "      <td>68.0</td>\n",
       "      <td>58.0</td>\n",
       "      <td>51.0</td>\n",
       "      <td>15.0</td>\n",
       "      <td>13.0</td>\n",
       "      <td>5.0</td>\n",
       "      <td>10.0</td>\n",
       "      <td>13.0</td>\n",
       "      <td>196400000.0</td>\n",
       "      <td>MF</td>\n",
       "    </tr>\n",
       "  </tbody>\n",
       "</table>\n",
       "<p>5 rows × 42 columns</p>\n",
       "</div>"
      ],
      "text/plain": [
       "   Age  Overall  Potential  International Reputation  Weak Foot  Skill Moves  \\\n",
       "0   31       94         94                       5.0        4.0          4.0   \n",
       "1   33       94         94                       5.0        4.0          5.0   \n",
       "2   26       92         93                       5.0        5.0          5.0   \n",
       "3   27       91         93                       4.0        3.0          1.0   \n",
       "4   27       91         92                       4.0        5.0          4.0   \n",
       "\n",
       "   Crossing  Finishing  HeadingAccuracy  ShortPassing  ...  Marking  \\\n",
       "0      84.0       95.0             70.0          90.0  ...     33.0   \n",
       "1      84.0       94.0             89.0          81.0  ...     28.0   \n",
       "2      79.0       87.0             62.0          84.0  ...     27.0   \n",
       "3      17.0       13.0             21.0          50.0  ...     15.0   \n",
       "4      93.0       82.0             55.0          92.0  ...     68.0   \n",
       "\n",
       "   StandingTackle  SlidingTackle  GKDiving  GKHandling  GKKicking  \\\n",
       "0            28.0           26.0       6.0        11.0       15.0   \n",
       "1            31.0           23.0       7.0        11.0       15.0   \n",
       "2            24.0           33.0       9.0         9.0       15.0   \n",
       "3            21.0           13.0      90.0        85.0       87.0   \n",
       "4            58.0           51.0      15.0        13.0        5.0   \n",
       "\n",
       "   GKPositioning  GKReflexes  Release Clause  Simple Position  \n",
       "0           14.0         8.0     226500000.0               ST  \n",
       "1           14.0        11.0     127100000.0               ST  \n",
       "2           15.0        11.0     228100000.0               AM  \n",
       "3           88.0        94.0     138600000.0               GK  \n",
       "4           10.0        13.0     196400000.0               MF  \n",
       "\n",
       "[5 rows x 42 columns]"
      ]
     },
     "execution_count": 168,
     "metadata": {},
     "output_type": "execute_result"
    }
   ],
   "source": [
    "df['Simple Position'] = df.apply(simple_position, axis=1)\n",
    "\n",
    "df = df.drop(['Position'], axis=1)\n",
    "\n",
    "df.head()"
   ]
  },
  {
   "cell_type": "markdown",
   "metadata": {},
   "source": [
    "Para selecionar quais colunas irão entrar no modelo de regressão linear, usamos o método de ranqueamento de features recursivo, que funciona da seguinte forma: o estimador é treinado no conjunto inicial de features e a importância das features é obtida através do seu coeficiente. Então, as features menos importantes são cortadas do conjunto de features. O procedimento é repetido até que o conjunto de features seja igual ao número desejado de features. Então para encontrar o número ótimo de features, iteramos sobre o conjunto completo de features e escolhemos aquele que obteve o melhor R².\n",
    "\n",
    "Obtivemos que o número ótimo de features é 34.  Seguem: ('Age', 'Potential', 'International Reputation', 'Weak Foot', 'Skill Moves', 'Finishing', 'HeadingAccuracy', 'ShortPassing', 'BallControl', 'Acceleration', 'SprintSpeed', 'Reactions', 'Balance', 'ShotPower', 'Stamina', 'Strength', 'Positioning', 'Vision', 'Penalties', 'Composure', 'Marking', 'StandingTackle', 'SlidingTackle', 'GKDiving', 'GKHandling', 'GKKicking', 'GKPositioning', 'GKReflexes', 'Simple Position_AM', 'Simple Position_DF', 'Simple Position_DM', 'Simple Position_GK', 'Simple Position_MF', 'Simple Position_ST')."
   ]
  },
  {
   "cell_type": "code",
   "execution_count": 169,
   "metadata": {},
   "outputs": [
    {
     "name": "stdout",
     "output_type": "stream",
     "text": [
      "Optimum number of features: 20\n",
      "Score with 20 features: 0.877609\n"
     ]
    }
   ],
   "source": [
    "## NAO VAMOS COLOCAR ISSO AQUI NO DO FLAVIO, COLOQUEI SO PRA CONSEGUIR TER UMA EXPLICACAO PRO LOIC DAS COLUNAS\n",
    "## ESCOLHIDAS.\n",
    "\n",
    "\n",
    "y = df[\"Overall\"]\n",
    "\n",
    "X = df.drop([\"Overall\", \"Potential\"], axis=1)\n",
    "X = pd.get_dummies(X)\n",
    "\n",
    "#no of features\n",
    "nof_list=np.arange(1,43)            \n",
    "high_score=0\n",
    "#Variable to store the optimum features\n",
    "nof=0           \n",
    "score_list =[]\n",
    "for n in range(len(nof_list)):\n",
    "    \n",
    "    X_train, X_test, y_train, y_test = train_test_split(X,y, test_size = 0.2, random_state = 0)\n",
    "    model = linear_model.LinearRegression()\n",
    "    \n",
    "    rfe = RFE(model,nof_list[n])\n",
    "    X_train_rfe = rfe.fit_transform(X_train, y_train)\n",
    "    X_test_rfe = rfe.transform(X_test)\n",
    "    \n",
    "    model.fit(X_train_rfe,y_train)\n",
    "    \n",
    "    score = model.score(X_test_rfe,y_test)\n",
    "    score_list.append(score)\n",
    "    \n",
    "    if(abs(score-high_score) > 0.1):\n",
    "        high_score = score\n",
    "        nof = nof_list[n]\n",
    "\n",
    "print(\"Optimum number of features: %d\" %nof)\n",
    "print(\"Score with %d features: %f\" % (nof, high_score))"
   ]
  },
  {
   "cell_type": "code",
   "execution_count": 170,
   "metadata": {},
   "outputs": [
    {
     "data": {
      "text/plain": [
       "[0.2576280845445086,\n",
       " 0.26591412316985474,\n",
       " 0.40456161379068195,\n",
       " 0.43059238659544863,\n",
       " 0.7763169580399494,\n",
       " 0.7770401472238329,\n",
       " 0.7770711557157792,\n",
       " 0.7771078673921661,\n",
       " 0.810487143266197,\n",
       " 0.822443479771174,\n",
       " 0.8413919244047584,\n",
       " 0.84513103253059,\n",
       " 0.8614951663594795,\n",
       " 0.8640683403665361,\n",
       " 0.8641057360089788,\n",
       " 0.8659594537347979,\n",
       " 0.8694533902436403,\n",
       " 0.8739639640766109,\n",
       " 0.8760579020652409,\n",
       " 0.877608821732642,\n",
       " 0.8783819987933678,\n",
       " 0.8788326120142713,\n",
       " 0.8788326120142713,\n",
       " 0.8796412063233141,\n",
       " 0.88090735715854,\n",
       " 0.881548314967415,\n",
       " 0.88189493725866,\n",
       " 0.8820566721590152,\n",
       " 0.8825974761728387,\n",
       " 0.8827235248649505,\n",
       " 0.8829886814752155,\n",
       " 0.8827920926630339,\n",
       " 0.8827287594801622,\n",
       " 0.8827940352918857,\n",
       " 0.8828988165889082,\n",
       " 0.8829072999524685,\n",
       " 0.8828433760028741,\n",
       " 0.882788227606817,\n",
       " 0.882840649469486,\n",
       " 0.8828666022690681,\n",
       " 0.8828124574408349,\n",
       " 0.8828081729563978]"
      ]
     },
     "execution_count": 170,
     "metadata": {},
     "output_type": "execute_result"
    }
   ],
   "source": [
    "score_list"
   ]
  },
  {
   "cell_type": "code",
   "execution_count": 171,
   "metadata": {},
   "outputs": [
    {
     "name": "stdout",
     "output_type": "stream",
     "text": [
      "Index(['International Reputation', 'Skill Moves', 'BallControl', 'Reactions',\n",
      "       'Composure', 'GKReflexes', 'Simple Position_AM', 'Simple Position_DF',\n",
      "       'Simple Position_GK', 'Simple Position_ST'],\n",
      "      dtype='object')\n"
     ]
    }
   ],
   "source": [
    "cols = list(X.columns)\n",
    "model = linear_model.LinearRegression()#Initializing RFE model\n",
    "rfe = RFE(model, 10)             #Transforming data using RFE\n",
    "X_rfe = rfe.fit_transform(X,y)  #Fitting the data to model\n",
    "model.fit(X_rfe,y)              \n",
    "temp = pd.Series(rfe.support_,index = cols)\n",
    "selected_features_rfe = temp[temp==True].index\n",
    "print(selected_features_rfe)"
   ]
  },
  {
   "cell_type": "code",
   "execution_count": 172,
   "metadata": {},
   "outputs": [],
   "source": [
    "y = df[\"Overall\"]\n",
    "\n",
    "X = df.drop([\"Overall\"], axis=1)\n",
    "X = pd.get_dummies(X)\n",
    "\n",
    "# X = X[['Age', 'Potential', 'International Reputation', 'Weak Foot',\n",
    "#        'Skill Moves', 'Finishing', 'HeadingAccuracy', 'ShortPassing',\n",
    "#        'BallControl', 'Acceleration', 'SprintSpeed', 'Reactions', 'Balance',\n",
    "#        'ShotPower', 'Stamina', 'Strength', 'Positioning', 'Vision',\n",
    "#        'Penalties', 'Composure', 'Marking', 'StandingTackle', 'SlidingTackle',\n",
    "#        'GKDiving', 'GKHandling', 'GKKicking', 'GKPositioning', 'GKReflexes',\n",
    "#        'Simple Position_AM', 'Simple Position_DF', 'Simple Position_DM',\n",
    "#        'Simple Position_GK', 'Simple Position_MF', 'Simple Position_ST']]\n",
    "\n",
    "X = X[['International Reputation', 'Skill Moves', 'BallControl', 'Reactions',\n",
    "       'Composure', 'GKReflexes', 'Simple Position_AM', 'Simple Position_DF',\n",
    "       'Simple Position_GK', 'Simple Position_ST']]\n",
    "\n",
    "# Transformando as variaveis categoricas em binarias usando one-hot encoding\n",
    "X = pd.get_dummies(X)\n",
    "\n",
    "indexes = X.columns\n",
    "\n",
    "X = X.values\n",
    "y = y.values\n",
    "\n",
    "# dividindo em conjunto de treino e teste\n",
    "X_train, X_test, y_train, y_test = train_test_split(X, y, test_size=0.2)"
   ]
  },
  {
   "cell_type": "code",
   "execution_count": 173,
   "metadata": {},
   "outputs": [],
   "source": [
    "# Por apresentar dados em escalas muito diferentes, iremos normalizar as colunas.\n",
    "from sklearn.preprocessing import StandardScaler\n",
    "scaler = StandardScaler()\n",
    "X_new_train = scaler.fit_transform(X_train)"
   ]
  },
  {
   "cell_type": "code",
   "execution_count": 174,
   "metadata": {},
   "outputs": [
    {
     "data": {
      "text/plain": [
       "array([0.84345217, 0.84097861, 0.83512451, 0.84654191, 0.83802058,\n",
       "       0.84668738, 0.8287885 , 0.83143451, 0.8247907 , 0.82272593,\n",
       "       0.85143868, 0.84115355, 0.84282151, 0.84305915, 0.82854138,\n",
       "       0.82460323, 0.8158887 , 0.8200319 , 0.81507118, 0.83053966])"
      ]
     },
     "execution_count": 174,
     "metadata": {},
     "output_type": "execute_result"
    }
   ],
   "source": [
    "from sklearn.model_selection import cross_val_score\n",
    "model = linear_model.LinearRegression()\n",
    "cross_val_score(model, X_new_train, y_train, cv=20)"
   ]
  },
  {
   "cell_type": "code",
   "execution_count": 175,
   "metadata": {},
   "outputs": [
    {
     "data": {
      "text/plain": [
       "LinearRegression(copy_X=True, fit_intercept=True, n_jobs=None, normalize=False)"
      ]
     },
     "execution_count": 175,
     "metadata": {},
     "output_type": "execute_result"
    }
   ],
   "source": [
    "# ajustando o modelo com o conjunto de treino\n",
    "model.fit(X_new_train, y_train)"
   ]
  },
  {
   "cell_type": "code",
   "execution_count": 176,
   "metadata": {},
   "outputs": [],
   "source": [
    "# usando a media e o desvio padrão do treino para converter o teste\n",
    "(X_test - X_train.mean()) / X_train.std(ddof=1)\n",
    "X_test_new = scaler.transform(X_test)"
   ]
  },
  {
   "cell_type": "code",
   "execution_count": 177,
   "metadata": {},
   "outputs": [],
   "source": [
    "y_pred = model.predict(X_test_new)"
   ]
  },
  {
   "cell_type": "code",
   "execution_count": 178,
   "metadata": {},
   "outputs": [
    {
     "name": "stdout",
     "output_type": "stream",
     "text": [
      "Mean squared error: 8.03\n",
      "R²: 0.84\n"
     ]
    }
   ],
   "source": [
    "print(f'Mean squared error: {mean_squared_error(y_test, y_pred):.2f}' )\n",
    "print(f'R²: {r2_score(y_test, y_pred):.2f}')"
   ]
  },
  {
   "cell_type": "code",
   "execution_count": 179,
   "metadata": {},
   "outputs": [
    {
     "data": {
      "image/png": "[encoded data removed]",
      "text/plain": [
       "<Figure size 1080x720 with 1 Axes>"
      ]
     },
     "metadata": {
      "needs_background": "light"
     },
     "output_type": "display_data"
    }
   ],
   "source": [
    "plt.figure(figsize=(15,10))\n",
    "sns.regplot(y_pred, y_test, line_kws={'color':'k','alpha':1})\n",
    "plt.xlabel(\"Previsão\")\n",
    "plt.ylabel(\"Overall\")\n",
    "plt.title(\"Regressão linear para previsão de Overall\")\n",
    "plt.show()"
   ]
  },
  {
   "cell_type": "code",
   "execution_count": 183,
   "metadata": {},
   "outputs": [
    {
     "ename": "KeyError",
     "evalue": "'Coefficient'",
     "output_type": "error",
     "traceback": [
      "\u001b[0;31m---------------------------------------------------------------------------\u001b[0m",
      "\u001b[0;31mKeyError\u001b[0m                                  Traceback (most recent call last)",
      "\u001b[0;32m<ipython-input-183-2e1d8780aae6>\u001b[0m in \u001b[0;36m<module>\u001b[0;34m\u001b[0m\n\u001b[0;32m----> 1\u001b[0;31m \u001b[0mcoeff_df\u001b[0m \u001b[0;34m=\u001b[0m \u001b[0mpd\u001b[0m\u001b[0;34m.\u001b[0m\u001b[0mDataFrame\u001b[0m\u001b[0;34m(\u001b[0m\u001b[0mmodel\u001b[0m\u001b[0;34m.\u001b[0m\u001b[0mcoef_\u001b[0m\u001b[0;34m,\u001b[0m \u001b[0mindexes\u001b[0m\u001b[0;34m,\u001b[0m \u001b[0mcolumns\u001b[0m\u001b[0;34m=\u001b[0m\u001b[0;34m[\u001b[0m\u001b[0;34m'Coefficient'\u001b[0m\u001b[0;34m]\u001b[0m\u001b[0;34m)\u001b[0m\u001b[0;34m.\u001b[0m\u001b[0msort_values\u001b[0m\u001b[0;34m(\u001b[0m\u001b[0maxis\u001b[0m\u001b[0;34m=\u001b[0m\u001b[0;36m1\u001b[0m\u001b[0;34m,\u001b[0m \u001b[0mby\u001b[0m\u001b[0;34m=\u001b[0m\u001b[0;34m[\u001b[0m\u001b[0;34m'Coefficient'\u001b[0m\u001b[0;34m]\u001b[0m\u001b[0;34m)\u001b[0m\u001b[0;34m\u001b[0m\u001b[0;34m\u001b[0m\u001b[0m\n\u001b[0m\u001b[1;32m      2\u001b[0m \u001b[0mcoeff_df\u001b[0m\u001b[0;34m\u001b[0m\u001b[0;34m\u001b[0m\u001b[0m\n",
      "\u001b[0;32m~/anaconda3/lib/python3.7/site-packages/pandas/core/frame.py\u001b[0m in \u001b[0;36msort_values\u001b[0;34m(self, by, axis, ascending, inplace, kind, na_position)\u001b[0m\n\u001b[1;32m   4717\u001b[0m \u001b[0;34m\u001b[0m\u001b[0m\n\u001b[1;32m   4718\u001b[0m             \u001b[0mby\u001b[0m \u001b[0;34m=\u001b[0m \u001b[0mby\u001b[0m\u001b[0;34m[\u001b[0m\u001b[0;36m0\u001b[0m\u001b[0;34m]\u001b[0m\u001b[0;34m\u001b[0m\u001b[0;34m\u001b[0m\u001b[0m\n\u001b[0;32m-> 4719\u001b[0;31m             \u001b[0mk\u001b[0m \u001b[0;34m=\u001b[0m \u001b[0mself\u001b[0m\u001b[0;34m.\u001b[0m\u001b[0m_get_label_or_level_values\u001b[0m\u001b[0;34m(\u001b[0m\u001b[0mby\u001b[0m\u001b[0;34m,\u001b[0m \u001b[0maxis\u001b[0m\u001b[0;34m=\u001b[0m\u001b[0maxis\u001b[0m\u001b[0;34m)\u001b[0m\u001b[0;34m\u001b[0m\u001b[0;34m\u001b[0m\u001b[0m\n\u001b[0m\u001b[1;32m   4720\u001b[0m \u001b[0;34m\u001b[0m\u001b[0m\n\u001b[1;32m   4721\u001b[0m             \u001b[0;32mif\u001b[0m \u001b[0misinstance\u001b[0m\u001b[0;34m(\u001b[0m\u001b[0mascending\u001b[0m\u001b[0;34m,\u001b[0m \u001b[0;34m(\u001b[0m\u001b[0mtuple\u001b[0m\u001b[0;34m,\u001b[0m \u001b[0mlist\u001b[0m\u001b[0;34m)\u001b[0m\u001b[0;34m)\u001b[0m\u001b[0;34m:\u001b[0m\u001b[0;34m\u001b[0m\u001b[0;34m\u001b[0m\u001b[0m\n",
      "\u001b[0;32m~/anaconda3/lib/python3.7/site-packages/pandas/core/generic.py\u001b[0m in \u001b[0;36m_get_label_or_level_values\u001b[0;34m(self, key, axis)\u001b[0m\n\u001b[1;32m   1704\u001b[0m             \u001b[0mvalues\u001b[0m \u001b[0;34m=\u001b[0m \u001b[0mself\u001b[0m\u001b[0;34m.\u001b[0m\u001b[0maxes\u001b[0m\u001b[0;34m[\u001b[0m\u001b[0maxis\u001b[0m\u001b[0;34m]\u001b[0m\u001b[0;34m.\u001b[0m\u001b[0mget_level_values\u001b[0m\u001b[0;34m(\u001b[0m\u001b[0mkey\u001b[0m\u001b[0;34m)\u001b[0m\u001b[0;34m.\u001b[0m\u001b[0m_values\u001b[0m\u001b[0;34m\u001b[0m\u001b[0;34m\u001b[0m\u001b[0m\n\u001b[1;32m   1705\u001b[0m         \u001b[0;32melse\u001b[0m\u001b[0;34m:\u001b[0m\u001b[0;34m\u001b[0m\u001b[0;34m\u001b[0m\u001b[0m\n\u001b[0;32m-> 1706\u001b[0;31m             \u001b[0;32mraise\u001b[0m \u001b[0mKeyError\u001b[0m\u001b[0;34m(\u001b[0m\u001b[0mkey\u001b[0m\u001b[0;34m)\u001b[0m\u001b[0;34m\u001b[0m\u001b[0;34m\u001b[0m\u001b[0m\n\u001b[0m\u001b[1;32m   1707\u001b[0m \u001b[0;34m\u001b[0m\u001b[0m\n\u001b[1;32m   1708\u001b[0m         \u001b[0;31m# Check for duplicates\u001b[0m\u001b[0;34m\u001b[0m\u001b[0;34m\u001b[0m\u001b[0;34m\u001b[0m\u001b[0m\n",
      "\u001b[0;31mKeyError\u001b[0m: 'Coefficient'"
     ]
    }
   ],
   "source": [
    "coeff_df = pd.DataFrame(model.coef_, indexes, columns=['Coefficient']).sort_values(axis=1, by=['Coefficient'])\n",
    "coeff_df"
   ]
  },
  {
   "cell_type": "code",
   "execution_count": null,
   "metadata": {},
   "outputs": [],
   "source": []
  }
 ],
 "metadata": {
  "kernelspec": {
   "display_name": "Python 3",
   "language": "python",
   "name": "python3"
  },
  "language_info": {
   "codemirror_mode": {
    "name": "ipython",
    "version": 3
   },
   "file_extension": ".py",
   "mimetype": "text/x-python",
   "name": "python",
   "nbconvert_exporter": "python",
   "pygments_lexer": "ipython3",
   "version": "3.7.3"
  }
 },
 "nbformat": 4,
 "nbformat_minor": 2
}
